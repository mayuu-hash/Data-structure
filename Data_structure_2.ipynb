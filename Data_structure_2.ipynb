{
 "cells": [
  {
   "cell_type": "markdown",
   "id": "d957ffb7-a2db-4cdd-9f6f-973e943773d5",
   "metadata": {},
   "source": [
    "# 1. What are data structures, and why are they important?\n",
    "Ans - Data structures are the way of organising and storing data in a computer so that it can be accessed and modified efficiently. They are important because they enable efficient data management, improve performance, and allow for better organization of complex data."
   ]
  },
  {
   "cell_type": "markdown",
   "id": "c171b46c-0993-42c0-b3fb-429981765210",
   "metadata": {},
   "source": [
    "# 2. Explain the difference between mutable and immutable data types with examples.\n",
    "Ans - Mutable data types can be changed after creation (e.g., lists, dictionaries, sets). Immutable data types cannot be changed after creation (e.g., int, str, tuples).\n",
    "Example : A list [1,2,3] can be modified to [1,4,3], but a tuple(1,2,3) cannot be changed."
   ]
  },
  {
   "cell_type": "markdown",
   "id": "d63091a3-418f-406e-b881-d3a88e1267d1",
   "metadata": {},
   "source": [
    "# 3. What are the main difference between lists and tuples in python?\n",
    "Ans - Lists are mutable (can be modified), while tuples are immutable (cannot be modified). Lists use square brackets [], while tuples use parentheses ()."
   ]
  },
  {
   "cell_type": "markdown",
   "id": "af8ffad9-27fc-4b61-bbb8-0eace47ace38",
   "metadata": {},
   "source": [
    "# 4. Describe how dictionaries store data.\n",
    "Ans - Dictionaries store data as key-value pairs, where each key is unique and maps to a value. Keys must be immutable (e.g., strings, numbers, tuples)"
   ]
  },
  {
   "cell_type": "markdown",
   "id": "70e6f56b-a00f-452d-a9bf-1f735034c4d8",
   "metadata": {},
   "source": [
    "# 5. Why might you use a set instead of a list in python?\n",
    "Ans - Sets are used when you need to store uniqie elements and perform operations like union, intersection, or difference. They also provide faster membership tests compared to lists."
   ]
  },
  {
   "cell_type": "markdown",
   "id": "2db95368-ad96-4c78-93be-fe0f7f432a11",
   "metadata": {},
   "source": [
    "# 6. What is a string in python, and how is it different from a list?\n",
    "Ans - A string is sequence of characters and is immutable. A list is a sequence of elements of any type and is mutable. strings are typically used for text, while lists are used for collections of items."
   ]
  },
  {
   "cell_type": "markdown",
   "id": "bfd33ea2-9fbf-49f6-bca6-da55d6eec18c",
   "metadata": {},
   "source": [
    "# 7. How do tuples ensure data integrity in python?\n",
    "Ans - Tuples are immutable, meaning their elements cannot be changed after creation. This ensures that the data remains constant and prevents accidental modifications."
   ]
  },
  {
   "cell_type": "markdown",
   "id": "fdf1a0b6-1065-46b6-a95f-4826747f8383",
   "metadata": {},
   "source": [
    "# 8. What is hash table, and how does it relate to dictionaries in python?\n",
    "Ans - A hash table is a data structure that maps keys to values using a hash function. Python dictionaries are implemented using hash tables, which allows for fast key-value lookups."
   ]
  },
  {
   "cell_type": "markdown",
   "id": "488836f0-7202-40b0-9618-f4f85f94c816",
   "metadata": {},
   "source": [
    "# 9. Can lists contain different data types in python?\n",
    "Ans - Yes, lists can contain elements of different data types, such as [1,2,\"mayuresh\",3.22, false]"
   ]
  },
  {
   "cell_type": "markdown",
   "id": "ec5e11c6-5304-4e7b-ac1e-3ec4f15ed80b",
   "metadata": {},
   "source": [
    "# 10. Explain why strings are immutable in python? \n",
    "Ans - Strings are immutable to ensure security (e.g., preventing modification of strings used as keys in dictionaries) and to allow optimizations like memory sharing for identical strings."
   ]
  },
  {
   "cell_type": "markdown",
   "id": "84c2ce5f-6fd4-4399-856e-37ac0bad9b18",
   "metadata": {},
   "source": [
    "# 11. What advantages do dictionaries offer over lists for certain tasks?\n",
    "Ans - Dictionaries provide faster lookups (O(1) time complexity) compared to lists (O(n) for searching). They are ideal for associating keys with values."
   ]
  },
  {
   "cell_type": "markdown",
   "id": "fb852ebc-39b3-4b53-abce-2cb49ab0eee2",
   "metadata": {},
   "source": [
    "# 12. Describe a scenario where using a tuple would be preferable over a list.\n",
    "Ans - Tuples are preferable when you need an immutable sequence, such as for dictionary keys or when passing data that should not be modified."
   ]
  },
  {
   "cell_type": "markdown",
   "id": "64191bcb-4b20-43e8-b482-d972882a410b",
   "metadata": {},
   "source": [
    "# 13. How do sets handle dublicate values in python?\n",
    "Ans - Sets automatically remove dublicate values, ensuring that all the elements are unique."
   ]
  },
  {
   "cell_type": "markdown",
   "id": "9cd58e04-9d36-41a6-afeb-475f8903e9de",
   "metadata": {},
   "source": [
    "# 14. How does the \"in\" keyword work differently for lists and dictionaries?\n",
    "Ans - For lists, in checks for value (O(n) time). For dictionaries, in checks for the presence of key (O(1) time)."
   ]
  },
  {
   "cell_type": "markdown",
   "id": "e0c8a417-1763-4981-802c-2529c9aa2290",
   "metadata": {},
   "source": [
    "# 15. Can you modify the elements of a tuple? Explain why or why not.\n",
    "Ans - No, tuples are immutable, so their elements cannot be modified after creation."
   ]
  },
  {
   "cell_type": "markdown",
   "id": "663a30f5-f5d7-4b91-bce3-267ab3f47c69",
   "metadata": {},
   "source": [
    "# 16. What is a nested dictionary, and give an example of its use case.\n",
    "Ans - A nested dictionary is a dictionary that contains other dictionaries. for ex: {\"person\": {\"name\":\"Alice\", \"age\": 30}}. It is useful for representing hierarchical data."
   ]
  },
  {
   "cell_type": "markdown",
   "id": "e777a60f-4c0b-4e36-8283-8a1f46efe3d3",
   "metadata": {},
   "source": [
    "# 17. Describe the time complexity of accessing elements in a dictionary.\n",
    "Ans - Accessing elements in a dictionary has an average time complexity of O(1) due to the use of hash tables."
   ]
  },
  {
   "cell_type": "markdown",
   "id": "eb5a125c-c617-4274-935a-72527813ba50",
   "metadata": {},
   "source": [
    "# 18. In what situations are lists preferred over dictionaries?\n",
    "Ans - Lists are preferred when you need an ordered collection of items, when dublicates are allowed, or when you need to iterate over elemets sequentially.\n"
   ]
  },
  {
   "cell_type": "markdown",
   "id": "c2ff9cc2-bb09-4632-8f86-114df55acf39",
   "metadata": {},
   "source": [
    "# 19. Why are dictionaries considered unordered, and how does that affect data retrieval?\n",
    "Ans - Prior to python 3.7, dictionaries were unorddered. Now, they maintain insertion order, but they are still primarily used for key-based lookups rather than order-based operations."
   ]
  },
  {
   "cell_type": "markdown",
   "id": "5b446ac4-70d5-45fe-9c53-8446f1d874b7",
   "metadata": {},
   "source": [
    "# 20. Explain the difference between a list and a dictionary in terms of data retrieval.\n",
    "Ans - lists retrive data by index (position), while dictionaries retrive data by key. List lookups are O(n) in worst case, while dictionary lookups are O(1)."
   ]
  },
  {
   "cell_type": "markdown",
   "id": "fe4b413b-53c6-4c0d-a79e-bf5172e4d641",
   "metadata": {},
   "source": [
    "# Practical Questions"
   ]
  },
  {
   "cell_type": "markdown",
   "id": "ecd6a788-e4e3-421f-8c6d-d53ce8686573",
   "metadata": {},
   "source": [
    "# 1. Write a code to create a string with your name and print it."
   ]
  },
  {
   "cell_type": "code",
   "execution_count": 2,
   "id": "0363ad7c-a231-4da8-80ea-c31e1589434d",
   "metadata": {},
   "outputs": [
    {
     "name": "stdout",
     "output_type": "stream",
     "text": [
      "Mayuresh Nivajekar\n"
     ]
    }
   ],
   "source": [
    "name = \"Mayuresh Nivajekar\"\n",
    "print(name)"
   ]
  },
  {
   "cell_type": "markdown",
   "id": "6700d703-d4f7-45ac-a833-fc08703b1f94",
   "metadata": {},
   "source": [
    "# 2. Write a code to find the length of the string \"Hello World\"."
   ]
  },
  {
   "cell_type": "code",
   "execution_count": 12,
   "id": "00ad9c1f-2a6e-4206-bc02-b3cc35dea69c",
   "metadata": {},
   "outputs": [
    {
     "name": "stdout",
     "output_type": "stream",
     "text": [
      "11\n"
     ]
    }
   ],
   "source": [
    "a = len(\"Hello World\")\n",
    "print(a)"
   ]
  },
  {
   "cell_type": "markdown",
   "id": "dd411b30-6674-461b-8e7c-aebbb6fea333",
   "metadata": {},
   "source": [
    "# 3. Write a code to slice the first 3 characters from the string \"Python Programming\"."
   ]
  },
  {
   "cell_type": "code",
   "execution_count": 11,
   "id": "e908b795-d344-4f7e-ba5f-5d47e3c32618",
   "metadata": {},
   "outputs": [
    {
     "name": "stdout",
     "output_type": "stream",
     "text": [
      "Pyt\n"
     ]
    }
   ],
   "source": [
    "x = \"Python Programming\"[:3]\n",
    "print(x)"
   ]
  },
  {
   "cell_type": "markdown",
   "id": "53c9675b-3d98-4cbf-b35a-bc5c2d0372b1",
   "metadata": {},
   "source": [
    "# 4. Write a code to convert the string \"hello\" to uppercase."
   ]
  },
  {
   "cell_type": "code",
   "execution_count": 10,
   "id": "12da2bee-2d9b-4f52-997e-b9534d09f557",
   "metadata": {},
   "outputs": [
    {
     "name": "stdout",
     "output_type": "stream",
     "text": [
      "HELLO\n"
     ]
    }
   ],
   "source": [
    "a = \"hello\".upper()\n",
    "print(a)"
   ]
  },
  {
   "cell_type": "markdown",
   "id": "cb890a17-c054-4e99-8d9f-4f0b1f3f9905",
   "metadata": {},
   "source": [
    "# 5. Write a code to replace the word \"apple\" with \"orange\" in the string \"I like apple\"."
   ]
  },
  {
   "cell_type": "code",
   "execution_count": 9,
   "id": "843066e8-138a-45f8-bdec-d0ec10e643fa",
   "metadata": {},
   "outputs": [
    {
     "name": "stdout",
     "output_type": "stream",
     "text": [
      "I like orange\n"
     ]
    }
   ],
   "source": [
    "a = \"I like apple\".replace(\"apple\", \"orange\")\n",
    "print(a)"
   ]
  },
  {
   "cell_type": "markdown",
   "id": "32f44cd1-ea2c-4d62-b96f-4bb666e1ec8e",
   "metadata": {},
   "source": [
    "# 6. Write a code to create a list with numbers 1 to 5 and print it."
   ]
  },
  {
   "cell_type": "code",
   "execution_count": 1,
   "id": "359751b6-ce3b-46ae-982f-266d3dae1f1e",
   "metadata": {},
   "outputs": [
    {
     "name": "stdout",
     "output_type": "stream",
     "text": [
      "[1, 2, 3, 4, 5]\n"
     ]
    }
   ],
   "source": [
    "x = [1,2,3,4,5]\n",
    "print(x)"
   ]
  },
  {
   "cell_type": "markdown",
   "id": "6f1eddef-912d-4058-9cce-0485d72fbbf9",
   "metadata": {},
   "source": [
    "# 7. Write a code to append the number 10 to the list [1,2,3,4]."
   ]
  },
  {
   "cell_type": "code",
   "execution_count": 2,
   "id": "f9e3a407-5184-4fdb-b7d5-66fabb7764a5",
   "metadata": {},
   "outputs": [
    {
     "name": "stdout",
     "output_type": "stream",
     "text": [
      "[1, 2, 3, 4, 10]\n"
     ]
    }
   ],
   "source": [
    "a = [1,2,3,4]\n",
    "a.append(10)\n",
    "print(a)"
   ]
  },
  {
   "cell_type": "markdown",
   "id": "4fa224da-4642-408e-ae45-f71822bcda1e",
   "metadata": {},
   "source": [
    "# 8. Write a code to remove the number 3 from the list [1,2,3,4,5]."
   ]
  },
  {
   "cell_type": "code",
   "execution_count": 3,
   "id": "029ce293-d755-46d4-ad46-5e9ec998e496",
   "metadata": {},
   "outputs": [
    {
     "name": "stdout",
     "output_type": "stream",
     "text": [
      "[1, 2, 4, 5]\n"
     ]
    }
   ],
   "source": [
    "a = [1,2,3,4,5]\n",
    "a.remove(3)\n",
    "print(a)"
   ]
  },
  {
   "cell_type": "markdown",
   "id": "bf6fa0a7-1c50-444a-b6e3-fec7dbad8729",
   "metadata": {},
   "source": [
    "# 9. Write a code to access the second element in the list ['a', 'b', 'c', 'd']"
   ]
  },
  {
   "cell_type": "code",
   "execution_count": 4,
   "id": "1dce0c71-d568-4a43-b175-d3a419aa2245",
   "metadata": {},
   "outputs": [
    {
     "name": "stdout",
     "output_type": "stream",
     "text": [
      "b\n"
     ]
    }
   ],
   "source": [
    "x = ['a', 'b', 'c', 'd']\n",
    "print(x[1])"
   ]
  },
  {
   "cell_type": "markdown",
   "id": "59ca7cd9-8ba3-42af-910d-b063f90c87db",
   "metadata": {},
   "source": [
    "# 10. Write a code to reverse the list. [10,20,30,40,50]\n"
   ]
  },
  {
   "cell_type": "code",
   "execution_count": 5,
   "id": "a64a5ff5-2735-49cf-9c5f-4034ed6fd593",
   "metadata": {},
   "outputs": [
    {
     "name": "stdout",
     "output_type": "stream",
     "text": [
      "[50, 40, 30, 20, 10]\n"
     ]
    }
   ],
   "source": [
    "a = [10,20,30,40,50]\n",
    "a.reverse()\n",
    "print(a)"
   ]
  },
  {
   "cell_type": "markdown",
   "id": "d627c6c2-6abe-490a-9eb1-0efb1b808de1",
   "metadata": {},
   "source": [
    "# 11. Write a code to create tuple with the elements 100,200,300 and print it."
   ]
  },
  {
   "cell_type": "code",
   "execution_count": 6,
   "id": "267a901a-ef72-4275-bd35-172721a0319f",
   "metadata": {},
   "outputs": [
    {
     "name": "stdout",
     "output_type": "stream",
     "text": [
      "(100, 200, 300)\n"
     ]
    }
   ],
   "source": [
    "mayus_tuple = (100, 200, 300)\n",
    "print(mayus_tuple)"
   ]
  },
  {
   "cell_type": "markdown",
   "id": "86709a74-c933-4bbc-8aef-73f706f0b36b",
   "metadata": {},
   "source": [
    "# 12. Write a code to access the second-to-last element of the tuple ('red', 'green', 'blue', 'yellow')."
   ]
  },
  {
   "cell_type": "code",
   "execution_count": 8,
   "id": "dab3d94f-3a78-4907-96df-0e0b08769661",
   "metadata": {},
   "outputs": [
    {
     "name": "stdout",
     "output_type": "stream",
     "text": [
      "blue\n"
     ]
    }
   ],
   "source": [
    "x = ('red', 'green', 'blue', 'yellow')\n",
    "print(x[-2])"
   ]
  },
  {
   "cell_type": "markdown",
   "id": "a7b0b796-d38d-4acd-a3df-678e9419754c",
   "metadata": {},
   "source": [
    "# 13. Write a code to find the minimum number in the tuple (10,20,5,15)."
   ]
  },
  {
   "cell_type": "code",
   "execution_count": 10,
   "id": "47535271-7ae4-4151-bed2-eb1201f6148c",
   "metadata": {},
   "outputs": [
    {
     "name": "stdout",
     "output_type": "stream",
     "text": [
      "5\n"
     ]
    }
   ],
   "source": [
    "a = (10,20,5,15)\n",
    "print(min(a))"
   ]
  },
  {
   "cell_type": "markdown",
   "id": "0484f622-7c90-4023-8944-4446148384c2",
   "metadata": {},
   "source": [
    "# 14. Write a code to find the index of the element \"cat\" in the tuple ('dog', 'cat', 'rabbit')"
   ]
  },
  {
   "cell_type": "code",
   "execution_count": 11,
   "id": "c2a34aaf-7ec6-4690-a2de-4d8f8e7632f5",
   "metadata": {},
   "outputs": [
    {
     "name": "stdout",
     "output_type": "stream",
     "text": [
      "1\n"
     ]
    }
   ],
   "source": [
    "b = ('dog', 'cat', 'rabbit')\n",
    "print(b.index('cat'))"
   ]
  },
  {
   "cell_type": "markdown",
   "id": "7c78af0e-b2fe-48fb-8cf1-82639e03afb8",
   "metadata": {},
   "source": [
    "# 15.  Write a code to create a tuple containing three different fruits and check if \"kiwi\" is in it."
   ]
  },
  {
   "cell_type": "code",
   "execution_count": 12,
   "id": "1d22788a-4544-4cac-93ae-890615e8d8b8",
   "metadata": {},
   "outputs": [
    {
     "name": "stdout",
     "output_type": "stream",
     "text": [
      "False\n"
     ]
    }
   ],
   "source": [
    "x = ('mango', 'apple', 'watermelon')\n",
    "print('kiwi' in x)"
   ]
  },
  {
   "cell_type": "markdown",
   "id": "b1238ba8-71c4-4e45-973e-3872f278c41f",
   "metadata": {},
   "source": [
    "# 16.  Write a code to create a set with the elements 'a', 'b', 'c' and print it."
   ]
  },
  {
   "cell_type": "code",
   "execution_count": 13,
   "id": "f93ce52c-9baf-4696-b31b-0625aaf10cae",
   "metadata": {},
   "outputs": [
    {
     "name": "stdout",
     "output_type": "stream",
     "text": [
      "{'c', 'a', 'b'}\n"
     ]
    }
   ],
   "source": [
    "mayu = {'a', 'b', 'c'}\n",
    "print(mayu)"
   ]
  },
  {
   "cell_type": "markdown",
   "id": "50295ffd-1e37-4ed4-b00c-379dd8f4f869",
   "metadata": {},
   "source": [
    "# 17.  Write a code to clear all elements from set {1,2,3,4,5}."
   ]
  },
  {
   "cell_type": "code",
   "execution_count": 15,
   "id": "ca81bd46-5caf-4d77-99ad-4352728653c2",
   "metadata": {},
   "outputs": [
    {
     "name": "stdout",
     "output_type": "stream",
     "text": [
      "set()\n"
     ]
    }
   ],
   "source": [
    "a = {1,2,3,4,5}\n",
    "a.clear()\n",
    "print(a)"
   ]
  },
  {
   "cell_type": "markdown",
   "id": "ac366613-c9d4-4291-8843-971ec556973b",
   "metadata": {},
   "source": [
    "# 18.  Write a code to remove the elements 4 from the set {1,2,3,4}."
   ]
  },
  {
   "cell_type": "code",
   "execution_count": 16,
   "id": "11e9b986-0008-41d3-b969-98f7f9b2bffa",
   "metadata": {},
   "outputs": [
    {
     "name": "stdout",
     "output_type": "stream",
     "text": [
      "{1, 2, 3}\n"
     ]
    }
   ],
   "source": [
    "x = {1,2,3,4}\n",
    "x.remove(4)\n",
    "print(x)"
   ]
  },
  {
   "cell_type": "markdown",
   "id": "65a45e62-9f59-4a2b-afd4-30175f566e4b",
   "metadata": {},
   "source": [
    "# 19.  Write a code to find the union of two sets {1,2,3} and {3,4,5}."
   ]
  },
  {
   "cell_type": "code",
   "execution_count": 18,
   "id": "d03cca78-b37b-4649-b90a-91bbf7902b71",
   "metadata": {},
   "outputs": [
    {
     "name": "stdout",
     "output_type": "stream",
     "text": [
      "{1, 2, 3, 4, 5}\n"
     ]
    }
   ],
   "source": [
    "a = {1,2,3}\n",
    "b = {3,4,5}\n",
    "print(a.union(b))"
   ]
  },
  {
   "cell_type": "markdown",
   "id": "03383aad-d2a7-4c7f-9d76-be77728c9640",
   "metadata": {},
   "source": [
    "# 20.  Write a code to find the intersection of two sets {1,2,3} and {2,3,4}."
   ]
  },
  {
   "cell_type": "code",
   "execution_count": 19,
   "id": "e2b40398-294a-40e4-a549-1d0ecdfe70ca",
   "metadata": {},
   "outputs": [
    {
     "name": "stdout",
     "output_type": "stream",
     "text": [
      "{2, 3}\n"
     ]
    }
   ],
   "source": [
    "x = {1,2,3}\n",
    "y = {2,3,4}\n",
    "print(x.intersection(y))"
   ]
  },
  {
   "cell_type": "markdown",
   "id": "365ebd99-c829-4dc2-8a00-7cc07f102d0f",
   "metadata": {},
   "source": [
    "# 21.  Write a code to create a dictionary with the keys \"name\", \"age\", and \"city\", and print it."
   ]
  },
  {
   "cell_type": "code",
   "execution_count": 20,
   "id": "34eec9e0-6e38-4f0a-9043-d6ca27020628",
   "metadata": {},
   "outputs": [
    {
     "name": "stdout",
     "output_type": "stream",
     "text": [
      "{'name': 'Mayuresh', 'age': 22, 'city': 'Pune'}\n"
     ]
    }
   ],
   "source": [
    "person = {\"name\": \"Mayuresh\", \"age\": 22, \"city\": \"Pune\"}\n",
    "print(person)"
   ]
  },
  {
   "cell_type": "markdown",
   "id": "8d484ced-6a0f-426c-b2db-91ba5ee2ec85",
   "metadata": {},
   "source": [
    "# 22.  Write a code to add a new key-value pair \"country\":\"USA\" to the dictionary ('name':'John', 'age':'25')."
   ]
  },
  {
   "cell_type": "code",
   "execution_count": 22,
   "id": "ce02d82a-ed8d-4be1-961a-f5cacf36b3f8",
   "metadata": {},
   "outputs": [
    {
     "name": "stdout",
     "output_type": "stream",
     "text": [
      "{'name': 'John', 'age': '25', 'country': 'USA'}\n"
     ]
    }
   ],
   "source": [
    "a = {'name': 'John', 'age': '25'}\n",
    "a['country'] = 'USA'\n",
    "print(a)"
   ]
  },
  {
   "cell_type": "markdown",
   "id": "5d27ba42-b7f1-41ec-9d79-b25014306221",
   "metadata": {},
   "source": [
    "# 23.  Write a code to access the value associated with the key \"name\" in the dictionary {'name':'Alice', 'age': '30'}."
   ]
  },
  {
   "cell_type": "code",
   "execution_count": 24,
   "id": "f77db003-886b-46dd-b8fa-f4cc0e99ed1f",
   "metadata": {},
   "outputs": [
    {
     "name": "stdout",
     "output_type": "stream",
     "text": [
      "Alice\n"
     ]
    }
   ],
   "source": [
    "x = {'name':'Alice', 'age': '30'}\n",
    "print(x['name'])"
   ]
  },
  {
   "cell_type": "markdown",
   "id": "395211f5-5114-48c2-a927-bf46f075afac",
   "metadata": {},
   "source": [
    "# 24. Write a code to remove the key \"age\" from the dictionary {'name': 'Bob', 'age': '22', 'city':'New York'}."
   ]
  },
  {
   "cell_type": "code",
   "execution_count": 25,
   "id": "ed968ea5-5fe2-4f6b-95ab-01552bea5ad8",
   "metadata": {},
   "outputs": [
    {
     "name": "stdout",
     "output_type": "stream",
     "text": [
      "{'name': 'Bob', 'city': 'New York'}\n"
     ]
    }
   ],
   "source": [
    "a = {'name': 'Bob', 'age': '22', 'city':'New York'}\n",
    "del a['age']\n",
    "print(a)"
   ]
  },
  {
   "cell_type": "markdown",
   "id": "a58fcdd8-64b7-4689-9550-e449aec6d6a7",
   "metadata": {},
   "source": [
    "# 25. Write a code to check if the key \"city\" exists in thr dictionary {'name': 'Alice', 'city': 'Paris'}.\n"
   ]
  },
  {
   "cell_type": "code",
   "execution_count": 26,
   "id": "2a0a825a-f7eb-4895-9e5d-6c0e9796e4d3",
   "metadata": {},
   "outputs": [
    {
     "name": "stdout",
     "output_type": "stream",
     "text": [
      "True\n"
     ]
    }
   ],
   "source": [
    "x =  {'name': 'Alice', 'city': 'Paris'}\n",
    "print('city' in x)"
   ]
  },
  {
   "cell_type": "markdown",
   "id": "c6050865-f12a-4d46-9d82-f524013be1fa",
   "metadata": {},
   "source": [
    "# 26. Write a code to create a list, a tuple, and a dictionary, and print them all."
   ]
  },
  {
   "cell_type": "code",
   "execution_count": 27,
   "id": "bbacf0a5-55da-4581-9f6c-89a0b50ed2e9",
   "metadata": {},
   "outputs": [
    {
     "name": "stdout",
     "output_type": "stream",
     "text": [
      "[1, 2, 3] (4, 5, 6) {'a': 1, 'b': 2}\n"
     ]
    }
   ],
   "source": [
    "a = [1,2,3]\n",
    "b = (4,5,6)\n",
    "c = {'a': 1, 'b': 2}\n",
    "print(a, b, c)"
   ]
  },
  {
   "cell_type": "markdown",
   "id": "3b2f9654-b5fa-4bbb-b5c6-c75e3146856f",
   "metadata": {},
   "source": [
    "# 27. Write a code to create a list of 5 random numbers between 1 to 100, sort it in ascending order, and print the result."
   ]
  },
  {
   "cell_type": "code",
   "execution_count": 1,
   "id": "db2fcc9a-dd6f-4ade-b3d8-62babbaed28e",
   "metadata": {},
   "outputs": [
    {
     "name": "stdout",
     "output_type": "stream",
     "text": [
      "[15, 34, 49, 72, 89]\n"
     ]
    }
   ],
   "source": [
    "import random\n",
    "numbers = [random.randint(1, 100) for _ in range(5)]\n",
    "numbers.sort()\n",
    "print(numbers)"
   ]
  },
  {
   "cell_type": "markdown",
   "id": "7d286653-b804-4c50-996d-9863d3fb4618",
   "metadata": {},
   "source": [
    "# 28. Write a code to create a list with strings and print the element at third index."
   ]
  },
  {
   "cell_type": "code",
   "execution_count": 31,
   "id": "868e2550-7b99-403d-8503-3cae0cd11db7",
   "metadata": {},
   "outputs": [
    {
     "name": "stdout",
     "output_type": "stream",
     "text": [
      "banana\n"
     ]
    }
   ],
   "source": [
    "x = ['apple', 'mango', 'banana', 'cherry', 'ornge']\n",
    "print(x[2])"
   ]
  },
  {
   "cell_type": "markdown",
   "id": "998dc8c7-7994-4e38-a81b-1107d73e8b14",
   "metadata": {},
   "source": [
    "# 29. Write a code to combine two dictionaries into one and print the result."
   ]
  },
  {
   "cell_type": "code",
   "execution_count": 33,
   "id": "6927c4be-f294-4c12-9bfd-ccfaea71815b",
   "metadata": {},
   "outputs": [
    {
     "name": "stdout",
     "output_type": "stream",
     "text": [
      "{'a': 1, 'b': 2, 'c': 3, 'd': 4}\n"
     ]
    }
   ],
   "source": [
    "a = {'a': 1, 'b': 2}\n",
    "b = {'c': 3, 'd': 4}\n",
    "combined = {**a, **b}\n",
    "print(combined)"
   ]
  },
  {
   "cell_type": "markdown",
   "id": "83778c7a-d5a5-4652-bc8e-7c5d78b310a7",
   "metadata": {},
   "source": [
    "# 30. Write a code to convert a list of strings into set."
   ]
  },
  {
   "cell_type": "code",
   "execution_count": 34,
   "id": "d3abf636-371a-42d4-9e78-309a24154752",
   "metadata": {},
   "outputs": [
    {
     "name": "stdout",
     "output_type": "stream",
     "text": [
      "{'tiger', 'cat', 'lion', 'dog', 'peocock'}\n"
     ]
    }
   ],
   "source": [
    "x = ['lion', 'tiger', 'peocock', 'dog', 'cat']\n",
    "x_set = set(x)\n",
    "print(x_set)"
   ]
  },
  {
   "cell_type": "code",
   "execution_count": null,
   "id": "80ab9b7d-6b6c-4c0d-9941-2bc434ba2478",
   "metadata": {},
   "outputs": [],
   "source": []
  }
 ],
 "metadata": {
  "kernelspec": {
   "display_name": "Python 3 (ipykernel)",
   "language": "python",
   "name": "python3"
  },
  "language_info": {
   "codemirror_mode": {
    "name": "ipython",
    "version": 3
   },
   "file_extension": ".py",
   "mimetype": "text/x-python",
   "name": "python",
   "nbconvert_exporter": "python",
   "pygments_lexer": "ipython3",
   "version": "3.12.7"
  }
 },
 "nbformat": 4,
 "nbformat_minor": 5
}
